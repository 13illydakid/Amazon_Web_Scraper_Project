{
 "cells": [
  {
   "cell_type": "code",
   "execution_count": 1,
   "metadata": {},
   "outputs": [],
   "source": [
    "# import libraries\n",
    "# from IPython.core.interactiveshell import InteractiveShell\n",
    "# InteractiveShell.ast_node_interactivity = \"all\"\n",
    "from bs4 import BeautifulSoup\n",
    "import requests\n",
    "import time\n",
    "import datetime\n",
    "\n",
    "import smtplib\n"
   ]
  },
  {
   "cell_type": "code",
   "execution_count": 85,
   "metadata": {},
   "outputs": [
    {
     "name": "stdout",
     "output_type": "stream",
     "text": [
      "        Funny Got Data MIS Data Systems Business Analyst T-Shirt       \n",
      "16.99\n"
     ]
    }
   ],
   "source": [
    "# Connect to Website\n",
    "URL = 'https://www.amazon.com/Funny-Data-Systems-Business-Analyst/dp/B07FNW9FGJ/ref=sr_1_1?qid=1693027764&refinements=p_4%3AMIS+Business+%26+Data+Analyst+Got+Data+Designs&s=apparel&sr=1-1'\n",
    "#http://httpbin.org/get\n",
    "headers = {\"User-Agent\": \"Mozilla/5.0 (Macintosh; Intel Mac OS X 10_15_7) AppleWebKit/537.36 (KHTML, like Gecko) Chrome/116.0.0.0 Safari/537.36\"}\n",
    "# headers = {\"User-Agent\": \"Mozilla/5.0 (Macintosh; Intel Mac OS X 10_15_7) AppleWebKit/537.36 (KHTML, like Gecko) Chrome/116.0.0.0 Safari/537.36\", \"Accept-Encoding\":\"gzip, deflate\", \"Accept\":\"texthtml,application/xhtml+xml,application/xml;q=0.9,*/*;q=0.8\", \"DNT\":\"1\",\"Connection\":\"close\", \"Upgrade-Insecure-Requests\":\"1\"}\n",
    "\n",
    "page = requests.get(URL, headers=headers)\n",
    "\n",
    "#soup1 = BeautifulSoup(page.content, \"html.parser\")\n",
    "soup1 = BeautifulSoup(page.content, \"html.parser\")\n",
    "#print(soup1)\n",
    "\n",
    "soup2 = BeautifulSoup(soup1.prettify(), \"html.parser\")\n",
    "#print(soup2)\n",
    "\n",
    "title = soup1.find(id='productTitle').get_text()\n",
    "print(title)\n",
    "\n",
    "#price = soup1.find(id='priceblock_ourprice').get_text()\n",
    "# price = soup1.find(name=\"span\", class_=\"a-price-whole\").get_text()\n",
    "#print(price)\n",
    "price_dollar = soup1.find(name=\"span\", class_=\"a-price-whole\").get_text()\n",
    "price_cents = soup1.find(name=\"span\", class_=\"a-price-fraction\").get_text()\n",
    "total_price = (float(f\"{price_dollar}{price_cents}\"))\n",
    "\n",
    "\n",
    "print(total_price)\n",
    "\n",
    "\n"
   ]
  },
  {
   "cell_type": "code",
   "execution_count": 86,
   "metadata": {},
   "outputs": [
    {
     "name": "stdout",
     "output_type": "stream",
     "text": [
      "Funny Got Data MIS Data Systems Business Analyst T-Shirt\n",
      "6.99\n"
     ]
    }
   ],
   "source": [
    "total_price = str(total_price).strip()[1:]\n",
    "#total_price = total_price.strip()[1:]\n",
    "title = title.strip()\n",
    "print(title)\n",
    "print(total_price)"
   ]
  },
  {
   "cell_type": "code",
   "execution_count": 87,
   "metadata": {},
   "outputs": [
    {
     "name": "stdout",
     "output_type": "stream",
     "text": [
      "2023-08-26\n"
     ]
    }
   ],
   "source": [
    "import datetime\n",
    "today = datetime.date.today()\n",
    "print(today)"
   ]
  },
  {
   "cell_type": "code",
   "execution_count": 82,
   "metadata": {},
   "outputs": [],
   "source": [
    "import csv\n",
    "header = [\"Title\", \"Price\", \"Date\"]\n",
    "data = [title, total_price, today]\n",
    "\n",
    "with open(\"AmazonWebScraperProject.csv\", \"w\", newline=\"\", encoding=\"UTF8\") as f:\n",
    "    writer = csv.writer(f)\n",
    "    writer.writerow(header)\n",
    "    writer.writerow(data)"
   ]
  },
  {
   "cell_type": "code",
   "execution_count": 66,
   "metadata": {},
   "outputs": [
    {
     "name": "stdout",
     "output_type": "stream",
     "text": [
      "                                               Title  Price        Date\n",
      "0  Funny Got Data MIS Data Systems Business Analy...   6.99  2023-08-26\n"
     ]
    }
   ],
   "source": [
    "import pandas as pd\n",
    "df = pd.read_csv('/Users/billychiu/jupyter_files/AmazonWebScraperProject.csv')\n",
    "print(df)"
   ]
  },
  {
   "cell_type": "code",
   "execution_count": 67,
   "metadata": {},
   "outputs": [],
   "source": [
    "# next is to append the data to the csv\n",
    "import csv\n",
    "with open(\"AmazonWebScraperProject.csv\", \"a+\", newline=\"\", encoding=\"UTF8\") as f:\n",
    "    writer = csv.writer(f)\n",
    "    #writer.writerow(header)\n",
    "    writer.writerow(data)"
   ]
  },
  {
   "cell_type": "code",
   "execution_count": 96,
   "metadata": {},
   "outputs": [],
   "source": [
    "def check_price():\n",
    "   URL = 'https://www.amazon.com/Funny-Data-Systems-Business-Analyst/dp/B07FNW9FGJ/ref=sr_1_1?qid=1693027764&refinements=p_4%3AMIS+Business+%26+Data+Analyst+Got+Data+Designs&s=apparel&sr=1-1'\n",
    "\n",
    "   headers = {\"User-Agent\": \"Mozilla/5.0 (Macintosh; Intel Mac OS X 10_15_7) AppleWebKit/537.36 (KHTML, like Gecko) Chrome/116.0.0.0 Safari/537.36\"}\n",
    "\n",
    "   page = requests.get(URL, headers=headers)\n",
    "\n",
    "   soup1 = BeautifulSoup(page.content, \"html.parser\")\n",
    "\n",
    "   # soup2 = BeautifulSoup(soup1.prettify(), \"html.parser\")\n",
    "\n",
    "   title = soup1.find(id='productTitle').get_text()\n",
    "   # title = BeautifulSoup(soup1.prettify(), \"html.parser\").find(id='productTitle').get_text()\n",
    "\n",
    "   price_dollar = soup1.find(name=\"span\", class_=\"a-price-whole\").get_text()\n",
    "   price_cents = soup1.find(name=\"span\", class_=\"a-price-fraction\").get_text()\n",
    "   total_price = (float(f\"{price_dollar}{price_cents}\"))\n",
    "\n",
    "   total_price = str(total_price).strip()[1:]\n",
    "   title = title.strip()\n",
    "\n",
    "   import datetime\n",
    "   today = datetime.date.today()\n",
    "\n",
    "   import csv\n",
    "   header = [\"Title\", \"Price\", \"Date\"]\n",
    "   data = [title, total_price, today]\n",
    "\n",
    "   with open(\"AmazonWebScraperProject.csv\", \"a+\", newline=\"\", encoding=\"UTF8\") as f:\n",
    "    writer = csv.writer(f)\n",
    "    writer.writerow(data)\n",
    "   \n",
    "   # insert optional email notification function, replace \"n\" with preferred price\n",
    "   if(price < n):\n",
    "      send_email()\n",
    "\n"
   ]
  },
  {
   "cell_type": "code",
   "execution_count": 104,
   "metadata": {},
   "outputs": [
    {
     "ename": "AttributeError",
     "evalue": "'NoneType' object has no attribute 'get_text'",
     "output_type": "error",
     "traceback": [
      "\u001b[0;31m---------------------------------------------------------------------------\u001b[0m",
      "\u001b[0;31mAttributeError\u001b[0m                            Traceback (most recent call last)",
      "Cell \u001b[0;32mIn[104], line 3\u001b[0m\n\u001b[1;32m      1\u001b[0m \u001b[39m# check price per (n) * seconds, example below: 1 hour\u001b[39;00m\n\u001b[1;32m      2\u001b[0m \u001b[39mwhile\u001b[39;00m(\u001b[39mTrue\u001b[39;00m):\n\u001b[0;32m----> 3\u001b[0m     check_price()\n\u001b[1;32m      4\u001b[0m     time\u001b[39m.\u001b[39msleep(\u001b[39m1\u001b[39m)\n",
      "Cell \u001b[0;32mIn[96], line 12\u001b[0m, in \u001b[0;36mcheck_price\u001b[0;34m()\u001b[0m\n\u001b[1;32m      8\u001b[0m soup1 \u001b[39m=\u001b[39m BeautifulSoup(page\u001b[39m.\u001b[39mcontent, \u001b[39m\"\u001b[39m\u001b[39mhtml.parser\u001b[39m\u001b[39m\"\u001b[39m)\n\u001b[1;32m     10\u001b[0m \u001b[39m# soup2 = BeautifulSoup(soup1.prettify(), \"html.parser\")\u001b[39;00m\n\u001b[0;32m---> 12\u001b[0m title \u001b[39m=\u001b[39m soup1\u001b[39m.\u001b[39mfind(\u001b[39mid\u001b[39m\u001b[39m=\u001b[39m\u001b[39m'\u001b[39m\u001b[39mproductTitle\u001b[39m\u001b[39m'\u001b[39m)\u001b[39m.\u001b[39mget_text()\n\u001b[1;32m     13\u001b[0m \u001b[39m# title = BeautifulSoup(soup1.prettify(), \"html.parser\").find(id='productTitle').get_text()\u001b[39;00m\n\u001b[1;32m     15\u001b[0m price_dollar \u001b[39m=\u001b[39m soup1\u001b[39m.\u001b[39mfind(name\u001b[39m=\u001b[39m\u001b[39m\"\u001b[39m\u001b[39mspan\u001b[39m\u001b[39m\"\u001b[39m, class_\u001b[39m=\u001b[39m\u001b[39m\"\u001b[39m\u001b[39ma-price-whole\u001b[39m\u001b[39m\"\u001b[39m)\u001b[39m.\u001b[39mget_text()\n",
      "\u001b[0;31mAttributeError\u001b[0m: 'NoneType' object has no attribute 'get_text'"
     ]
    }
   ],
   "source": [
    "# check price per (n) * seconds, example below: 1 hour\n",
    "while(True):\n",
    "    check_price()\n",
    "    time.sleep(3600)\n"
   ]
  },
  {
   "cell_type": "code",
   "execution_count": 105,
   "metadata": {},
   "outputs": [
    {
     "name": "stdout",
     "output_type": "stream",
     "text": [
      "                                               Title  Price        Date\n",
      "0  Funny Got Data MIS Data Systems Business Analy...   6.99  2023-08-26\n",
      "1  Funny Got Data MIS Data Systems Business Analy...   6.99  2023-08-26\n",
      "2  Funny Got Data MIS Data Systems Business Analy...   6.99  2023-08-26\n",
      "3  Funny Got Data MIS Data Systems Business Analy...   6.99  2023-08-26\n"
     ]
    }
   ],
   "source": [
    "import pandas as pd\n",
    "df = pd.read_csv('/Users/billychiu/jupyter_files/AmazonWebScraperProject.csv')\n",
    "print(df)"
   ]
  },
  {
   "cell_type": "code",
   "execution_count": null,
   "metadata": {},
   "outputs": [],
   "source": [
    "# function to send an email to notify if the price of an item has dropped below a certain price\n",
    "#import smtplib\n",
    "def send_email():\n",
    "   server = smtplib.SMTP_SSL(\"smtp.gmail.com\", 465)\n",
    "   server.ehlo()\n",
    "   server.starttls()\n",
    "   server.ehlo()\n",
    "   server.login(\"example_email@gmail.com\", \"***password***\")\n",
    "   email_subject = \"Price Drop Alert!! Buy Now!\"\n",
    "   email_body = \"The item you are interested in is now priced below ***\"\n",
    "   msg = f\"Email_subject: {email_subject}\\n\\n{email_body}\"\n",
    "   server.sendmail(\n",
    "      \"example_email@gmail.com\",\n",
    "      msg\n",
    "   )\n",
    "\n",
    "\n"
   ]
  }
 ],
 "metadata": {
  "kernelspec": {
   "display_name": "Python 3 (ipykernel)",
   "language": "python",
   "name": "python3"
  },
  "language_info": {
   "codemirror_mode": {
    "name": "ipython",
    "version": 3
   },
   "file_extension": ".py",
   "mimetype": "text/x-python",
   "name": "python",
   "nbconvert_exporter": "python",
   "pygments_lexer": "ipython3",
   "version": "3.11.4"
  }
 },
 "nbformat": 4,
 "nbformat_minor": 2
}
